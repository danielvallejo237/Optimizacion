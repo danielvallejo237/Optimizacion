{
 "cells": [
  {
   "cell_type": "markdown",
   "metadata": {},
   "source": [
    "# Algoritmo DFP y BFGS "
   ]
  },
  {
   "cell_type": "code",
   "execution_count": 1,
   "metadata": {},
   "outputs": [],
   "source": [
    "#parte 1 de las funciones \n",
    "#algorimto de DFP\n",
    "\n",
    "from scipy.optimize import line_search\n",
    "from numpy import linalg as la\n",
    "import numpy as np\n",
    "import time"
   ]
  },
  {
   "cell_type": "code",
   "execution_count": 43,
   "metadata": {},
   "outputs": [],
   "source": [
    "#Algoritmos lineales Cuasi Newton\n",
    "\n",
    "class algoritmos_cuasinewton(object):\n",
    "    def __init__(self):\n",
    "        self.algoritmos={'DFP':self._DFP, 'BFGS':self._BFGS}\n",
    "        \n",
    "    def _backtracking(self,f, g, xk, dk, fk, gk, alpha0, c1=0.01, c2=0.9, max_iter=100,tolalpha=1e-14):\n",
    "\n",
    "        alpha = 0\n",
    "        beta = float('inf')\n",
    "        alphai = alpha0\n",
    "        it = 0\n",
    "        while 1 and it < max_iter:\n",
    "            if f(xk + alphai*dk) > fk + c1*alphai*np.dot(np.transpose(gk), dk):\n",
    "                beta = alphai\n",
    "                alphai = (alpha + beta)/2\n",
    "            elif np.dot(np.transpose(g(xk + alphai*dk)), dk) < c2*np.dot(np.transpose(gk), dk):\n",
    "                alpha = alphai\n",
    "                if beta == float('inf'):\n",
    "                    alphai = 2*alpha\n",
    "                else:\n",
    "                    alphai = (alpha + beta)/2\n",
    "            else:\n",
    "                break\n",
    "            it+=1\n",
    "        return alphai    \n",
    "    def _DFP(self,x0,tf,grad,H0,tolx=1e-9,tolf=1e-9,tolg=1e-4,maxitr=10000):\n",
    "        iterations=0\n",
    "        tolerx=1e3\n",
    "        tolerf=1e3\n",
    "        xk=x0\n",
    "        Hk=H0\n",
    "        gk=grad(xk)\n",
    "        while la.norm(gk)>tolg and iterations<maxitr:\n",
    "            dk=-np.dot(Hk,gk)\n",
    "            fk=tf(xk)\n",
    "            step=self._backtracking(tf,grad,xk,dk,fk,gk,10.0)\n",
    "            new=xk+step*dk\n",
    "            gnew=grad(new)\n",
    "            yk=gnew-gk\n",
    "            sk=new-xk\n",
    "            #La parte de las tolerancias afetan el rendimiento del algoritmo\n",
    "            #tolerx=abs(la.norm(sk))/max(1,abs(la.norm(xk))) #tolerancia de las xk\n",
    "            #if tolerx<tolx:\n",
    "            #    print(\"Tolerancia de las x\")\n",
    "            #    break\n",
    "            #tolerf=abs(tf(new)-tf(xk))/max(1,abs(tf(xk))) #tolerancia de las f \n",
    "            #if tolerf<tolf:\n",
    "            #    print(\"Tolerancia de f\")\n",
    "            #    break\n",
    "            Hk=Hk-np.dot(Hk,np.dot(yk,np.dot(yk.T,Hk)))*(1/np.dot(yk.T,np.dot(Hk,yk)))+np.dot(sk,sk.T)*(1/np.dot(yk.T,sk))\n",
    "            gk=gnew\n",
    "            xk=new\n",
    "            iterations+=1\n",
    "        return np.array([xk,iterations,la.norm(grad(xk))])\n",
    "\n",
    "    def _BFGS (self,x0,tf,grad,H0,tolx=1e-9,tolf=1e-9,tolg=1e-4,maxitr=10000):\n",
    "        iterations=0\n",
    "        tolerx=1e3\n",
    "        tolerf=1e3\n",
    "        xk=x0\n",
    "        Hk=H0\n",
    "        gk=grad(xk)\n",
    "        while la.norm(grad(xk))>tolg and iterations<maxitr:\n",
    "            dk=-np.dot(Hk,gk)\n",
    "            dk/=la.norm(dk)\n",
    "            fk=tf(xk)\n",
    "            #dk=np.reshape(dk,(dk.shape[0],1))\n",
    "            step=self._backtracking(tf,grad,xk,dk,fk,gk,100.0)\n",
    "            new=xk+step*dk\n",
    "            gnew=grad(new)\n",
    "            yk=gnew-gk\n",
    "            sk=new-xk\n",
    "            rk=1/max(1,np.dot(yk.T,sk))\n",
    "            #Vamos a quitar las tolerancias porque se afecta el rendimiento del algoritmo\n",
    "            #tolerx=abs(la.norm(sk))/max(1,abs(la.norm(xk))) #tolerancia de las xk\n",
    "            #if tolerx<tolx:\n",
    "            #    print(\"Tolerancia de las x\")\n",
    "            #    break\n",
    "            #tolerf=abs(tf(new)-tf(xk))/max(1,abs(tf(xk))) #tolerancia de las f \n",
    "            #if tolerf<tolf:\n",
    "            #    print(\"Tolerancia de las f\")\n",
    "            #    break\n",
    "            Hk=np.dot((np.eye(Hk.shape[0],Hk.shape[1])-rk*np.dot(sk,yk.T)),np.dot(Hk,(np.eye(Hk.shape[0],Hk.shape[1])-rk*np.dot(yk,sk.T)))) + rk*np.dot(sk,sk.T)\n",
    "            xk=new\n",
    "            gk=gnew\n",
    "            iterations+=1\n",
    "        return np.array([xk,iterations,la.norm(grad(xk))])\n",
    "    def evaluate(self,f,grad,dim,algoritmo='BFGS'):\n",
    "        if algoritmo not in self.algoritmos.keys():\n",
    "            return None\n",
    "        else:\n",
    "            H0=np.eye(dim)\n",
    "            iteraciones=0\n",
    "            norma=0\n",
    "            tiempo=0\n",
    "            np.random.seed(0)\n",
    "            for i in range(30):\n",
    "                test=np.random.rand(dim,1)\n",
    "                start=time.clock()\n",
    "                res=self.algoritmos[algoritmo](test,f,grad,H0)\n",
    "                end=time.clock()\n",
    "                norma+=res[2]\n",
    "                tiempo+=(end-start)\n",
    "                iteraciones+=res[1]\n",
    "                print(\"Evaluación numero: \",i+1)\n",
    "            return np.array([norma/30,tiempo/30,round(iteraciones/30)])"
   ]
  },
  {
   "cell_type": "markdown",
   "metadata": {},
   "source": [
    "# Funciones de Prueba "
   ]
  },
  {
   "cell_type": "markdown",
   "metadata": {},
   "source": [
    "### Funcion Rosenbrock para n=100"
   ]
  },
  {
   "cell_type": "code",
   "execution_count": 44,
   "metadata": {},
   "outputs": [],
   "source": [
    "def rosen(x): #La función de rosembruck en general\n",
    "    return sum(100.0*(x[1:]-x[:-1]**2.0)**2.0 + (1-x[:-1])**2.0)\n",
    "\n",
    "def r_der(x):\n",
    "        xm = x[1:-1]\n",
    "        xm_m1 = x[:-2]\n",
    "        xm_p1 = x[2:]\n",
    "        der =np.zeros(x.shape)\n",
    "        der[1:-1] = 200*(xm-xm_m1**2) - 400*(xm_p1 - xm**2)*xm - 2*(1-xm)\n",
    "        der[0] = -400*x[0]*(x[1]-x[0]**2) - 2*(1-x[0])\n",
    "        der[-1] = 200*(x[-1]-x[-2]**2)\n",
    "        return der\n",
    "\n",
    "def rosen_hess(x):\n",
    "        H = np.diag(-400*x[:-1],1) - np.diag(400*x[:-1],-1)\n",
    "        diagonal = np.zeros(len(x))\n",
    "        diagonal[0] = 1200*x[0]-400*x[1]+2\n",
    "        diagonal[-1] = 200\n",
    "        diagonal[1:-1] = 202 + 1200*x[1:-1]**2 - 400*x[2:]\n",
    "        H = H + np.diag(diagonal)\n",
    "        return H"
   ]
  },
  {
   "cell_type": "code",
   "execution_count": 48,
   "metadata": {},
   "outputs": [
    {
     "name": "stdout",
     "output_type": "stream",
     "text": [
      "(100, 1) (100, 100)\n"
     ]
    }
   ],
   "source": [
    "cn=algoritmos_cuasinewton()\n",
    "\n",
    "np.random.seed(0)\n",
    "test=np.random.rand(100,1)\n",
    "H0=np.eye(test.shape[0])\n",
    "print(test.shape,H0.shape)\n",
    "res=cn.algoritmos['BFGS'](test,rosen,r_der,H0)"
   ]
  },
  {
   "cell_type": "code",
   "execution_count": 49,
   "metadata": {},
   "outputs": [
    {
     "name": "stdout",
     "output_type": "stream",
     "text": [
      "8.139220964052469e-05\n"
     ]
    }
   ],
   "source": [
    "print(res[2])"
   ]
  },
  {
   "cell_type": "code",
   "execution_count": 50,
   "metadata": {},
   "outputs": [
    {
     "name": "stderr",
     "output_type": "stream",
     "text": [
      "/home/danielvaal/anaconda3/lib/python3.7/site-packages/ipykernel_launcher.py:100: DeprecationWarning: time.clock has been deprecated in Python 3.3 and will be removed from Python 3.8: use time.perf_counter or time.process_time instead\n",
      "/home/danielvaal/anaconda3/lib/python3.7/site-packages/ipykernel_launcher.py:102: DeprecationWarning: time.clock has been deprecated in Python 3.3 and will be removed from Python 3.8: use time.perf_counter or time.process_time instead\n"
     ]
    },
    {
     "name": "stdout",
     "output_type": "stream",
     "text": [
      "Evaluación numero:  1\n",
      "Evaluación numero:  2\n",
      "Evaluación numero:  3\n",
      "Evaluación numero:  4\n",
      "Evaluación numero:  5\n",
      "Evaluación numero:  6\n",
      "Evaluación numero:  7\n",
      "Evaluación numero:  8\n",
      "Evaluación numero:  9\n",
      "Evaluación numero:  10\n",
      "Evaluación numero:  11\n",
      "Evaluación numero:  12\n",
      "Evaluación numero:  13\n",
      "Evaluación numero:  14\n",
      "Evaluación numero:  15\n",
      "Evaluación numero:  16\n",
      "Evaluación numero:  17\n",
      "Evaluación numero:  18\n",
      "Evaluación numero:  19\n",
      "Evaluación numero:  20\n",
      "Evaluación numero:  21\n",
      "Evaluación numero:  22\n",
      "Evaluación numero:  23\n",
      "Evaluación numero:  24\n",
      "Evaluación numero:  25\n",
      "Evaluación numero:  26\n",
      "Evaluación numero:  27\n",
      "Evaluación numero:  28\n",
      "Evaluación numero:  29\n",
      "Evaluación numero:  30\n"
     ]
    }
   ],
   "source": [
    "#Vector de prueba del algoritmo\n",
    "\n",
    "cn=algoritmos_cuasinewton()\n",
    "\n",
    "\n",
    "res=cn.evaluate(rosen,r_der,100)"
   ]
  },
  {
   "cell_type": "code",
   "execution_count": 51,
   "metadata": {},
   "outputs": [
    {
     "name": "stdout",
     "output_type": "stream",
     "text": [
      "Algoritmo BFGS\n",
      "[4.23259630e-01 1.87405304e+01 6.22400000e+03]\n"
     ]
    }
   ],
   "source": [
    "print(\"Algoritmo BFGS\")\n",
    "print(res)"
   ]
  },
  {
   "cell_type": "code",
   "execution_count": 52,
   "metadata": {},
   "outputs": [
    {
     "name": "stderr",
     "output_type": "stream",
     "text": [
      "/home/danielvaal/anaconda3/lib/python3.7/site-packages/ipykernel_launcher.py:100: DeprecationWarning: time.clock has been deprecated in Python 3.3 and will be removed from Python 3.8: use time.perf_counter or time.process_time instead\n",
      "/home/danielvaal/anaconda3/lib/python3.7/site-packages/ipykernel_launcher.py:102: DeprecationWarning: time.clock has been deprecated in Python 3.3 and will be removed from Python 3.8: use time.perf_counter or time.process_time instead\n"
     ]
    },
    {
     "name": "stdout",
     "output_type": "stream",
     "text": [
      "Evaluación numero:  1\n",
      "Evaluación numero:  2\n",
      "Evaluación numero:  3\n",
      "Evaluación numero:  4\n",
      "Evaluación numero:  5\n",
      "Evaluación numero:  6\n",
      "Evaluación numero:  7\n",
      "Evaluación numero:  8\n",
      "Evaluación numero:  9\n",
      "Evaluación numero:  10\n",
      "Evaluación numero:  11\n",
      "Evaluación numero:  12\n",
      "Evaluación numero:  13\n",
      "Evaluación numero:  14\n",
      "Evaluación numero:  15\n",
      "Evaluación numero:  16\n",
      "Evaluación numero:  17\n",
      "Evaluación numero:  18\n",
      "Evaluación numero:  19\n",
      "Evaluación numero:  20\n",
      "Evaluación numero:  21\n",
      "Evaluación numero:  22\n",
      "Evaluación numero:  23\n",
      "Evaluación numero:  24\n",
      "Evaluación numero:  25\n",
      "Evaluación numero:  26\n",
      "Evaluación numero:  27\n",
      "Evaluación numero:  28\n",
      "Evaluación numero:  29\n",
      "Evaluación numero:  30\n"
     ]
    }
   ],
   "source": [
    "res=cn.evaluate(rosen,r_der,100,algoritmo='DFP')"
   ]
  },
  {
   "cell_type": "code",
   "execution_count": 53,
   "metadata": {},
   "outputs": [
    {
     "name": "stdout",
     "output_type": "stream",
     "text": [
      "Algoritmo DFP\n",
      "[5.20510097e-05 2.97823033e+00 3.21400000e+03]\n"
     ]
    }
   ],
   "source": [
    "print(\"Algoritmo DFP\")\n",
    "print(res)"
   ]
  },
  {
   "cell_type": "code",
   "execution_count": 54,
   "metadata": {},
   "outputs": [],
   "source": [
    "def wood(x): #Función general, target function\n",
    "    return 100*((x[1]-x[0]**2)**2)+(1-x[0])**2+(1-x[2])**2+90*((x[3]-x[2]**2)**2)+10.1*((x[1]-1)**2+(x[3]-1)**2)+19.8*(x[1]-1)*(x[3]-1)\n",
    "\n",
    "def wood_derivate(x):\n",
    "    g=np.zeros((len(x),1))\n",
    "    g[0]=2.0*(200.0*x[0]**3-200*x[0]*x[1]+x[0]-1)\n",
    "    g[1]=-200*x[0]**2+220.2*x[1]+19.8*x[3]-40\n",
    "    g[2]=2*(180*x[2]**3-180*x[3]*x[2]+x[2]-1)\n",
    "    g[3]=19.8*x[1]-180*x[2]**2+200.2*x[3]-40\n",
    "    return g\n",
    "\n",
    "def wood_hessian(x):\n",
    "    hes=np.zeros((len(x),len(x)))\n",
    "    hes[0][0]=400*(x[0]**2-x[1])+800*x[0]**2+2\n",
    "    hes[0][1]=-400*x[0]\n",
    "    hes[1][0]=400*x[0]\n",
    "    hes[1][1]=220.2\n",
    "    hes[1][3]=19.8\n",
    "    hes[2][2]=2+720*x[2]**2+360*(x[2]**2-x[3])\n",
    "    hes[2][3]=-360*x[2]\n",
    "    hes[3][1]=19.8\n",
    "    hes[3][2]=-360*x[2]\n",
    "    hes[3][3]=200.2\n",
    "    return hes"
   ]
  },
  {
   "cell_type": "code",
   "execution_count": 55,
   "metadata": {},
   "outputs": [
    {
     "name": "stdout",
     "output_type": "stream",
     "text": [
      "(4, 1) (4, 4)\n"
     ]
    }
   ],
   "source": [
    "np.random.seed(0)\n",
    "test=np.random.rand(4,1)\n",
    "H0=np.eye(test.shape[0])\n",
    "print(test.shape,H0.shape)\n",
    "res=cn.algoritmos['DFP'](test,wood,wood_derivate,H0)"
   ]
  },
  {
   "cell_type": "code",
   "execution_count": 56,
   "metadata": {},
   "outputs": [
    {
     "name": "stdout",
     "output_type": "stream",
     "text": [
      "[array([[1.        ],\n",
      "       [0.99999994],\n",
      "       [1.00000004],\n",
      "       [0.99999995]])\n",
      " 27 5.7886758552209355e-05]\n"
     ]
    }
   ],
   "source": [
    "print(res)"
   ]
  },
  {
   "cell_type": "code",
   "execution_count": 59,
   "metadata": {},
   "outputs": [
    {
     "name": "stdout",
     "output_type": "stream",
     "text": [
      "WOOD DFP\n",
      "Evaluación numero:  1\n",
      "Evaluación numero:  2\n",
      "Evaluación numero:  3\n",
      "Evaluación numero:  4\n",
      "Evaluación numero:  5\n",
      "Evaluación numero:  6\n",
      "Evaluación numero:  7\n",
      "Evaluación numero:  8\n",
      "Evaluación numero:  9\n",
      "Evaluación numero:  10\n",
      "Evaluación numero:  11\n",
      "Evaluación numero:  12\n",
      "Evaluación numero:  13\n"
     ]
    },
    {
     "name": "stderr",
     "output_type": "stream",
     "text": [
      "/home/danielvaal/anaconda3/lib/python3.7/site-packages/ipykernel_launcher.py:100: DeprecationWarning: time.clock has been deprecated in Python 3.3 and will be removed from Python 3.8: use time.perf_counter or time.process_time instead\n",
      "/home/danielvaal/anaconda3/lib/python3.7/site-packages/ipykernel_launcher.py:102: DeprecationWarning: time.clock has been deprecated in Python 3.3 and will be removed from Python 3.8: use time.perf_counter or time.process_time instead\n"
     ]
    },
    {
     "name": "stdout",
     "output_type": "stream",
     "text": [
      "Evaluación numero:  14\n",
      "Evaluación numero:  15\n",
      "Evaluación numero:  16\n",
      "Evaluación numero:  17\n",
      "Evaluación numero:  18\n",
      "Evaluación numero:  19\n",
      "Evaluación numero:  20\n",
      "Evaluación numero:  21\n",
      "Evaluación numero:  22\n",
      "Evaluación numero:  23\n",
      "Evaluación numero:  24\n",
      "Evaluación numero:  25\n",
      "Evaluación numero:  26\n",
      "Evaluación numero:  27\n",
      "Evaluación numero:  28\n",
      "Evaluación numero:  29\n",
      "Evaluación numero:  30\n",
      "[5.89442622e-05 1.53116333e-02 5.80000000e+01]\n"
     ]
    }
   ],
   "source": [
    "print(\"WOOD DFP\")\n",
    "res=cn.evaluate(wood,wood_derivate,4,algoritmo='DFP')\n",
    "print(res)"
   ]
  },
  {
   "cell_type": "code",
   "execution_count": 60,
   "metadata": {},
   "outputs": [
    {
     "name": "stdout",
     "output_type": "stream",
     "text": [
      "WOOD BFGS\n",
      "Evaluación numero:  1\n"
     ]
    },
    {
     "name": "stderr",
     "output_type": "stream",
     "text": [
      "/home/danielvaal/anaconda3/lib/python3.7/site-packages/ipykernel_launcher.py:100: DeprecationWarning: time.clock has been deprecated in Python 3.3 and will be removed from Python 3.8: use time.perf_counter or time.process_time instead\n",
      "/home/danielvaal/anaconda3/lib/python3.7/site-packages/ipykernel_launcher.py:102: DeprecationWarning: time.clock has been deprecated in Python 3.3 and will be removed from Python 3.8: use time.perf_counter or time.process_time instead\n"
     ]
    },
    {
     "name": "stdout",
     "output_type": "stream",
     "text": [
      "Evaluación numero:  2\n",
      "Evaluación numero:  3\n",
      "Evaluación numero:  4\n",
      "Evaluación numero:  5\n",
      "Evaluación numero:  6\n",
      "Evaluación numero:  7\n",
      "Evaluación numero:  8\n",
      "Evaluación numero:  9\n",
      "Evaluación numero:  10\n",
      "Evaluación numero:  11\n",
      "Evaluación numero:  12\n",
      "Evaluación numero:  13\n",
      "Evaluación numero:  14\n",
      "Evaluación numero:  15\n",
      "Evaluación numero:  16\n",
      "Evaluación numero:  17\n",
      "Evaluación numero:  18\n",
      "Evaluación numero:  19\n",
      "Evaluación numero:  20\n",
      "Evaluación numero:  21\n",
      "Evaluación numero:  22\n",
      "Evaluación numero:  23\n",
      "Evaluación numero:  24\n",
      "Evaluación numero:  25\n",
      "Evaluación numero:  26\n",
      "Evaluación numero:  27\n",
      "Evaluación numero:  28\n",
      "Evaluación numero:  29\n",
      "Evaluación numero:  30\n",
      "[8.30001995e-05 1.26689867e-01 1.62000000e+02]\n"
     ]
    }
   ],
   "source": [
    "print(\"WOOD BFGS\")\n",
    "res=cn.evaluate(wood,wood_derivate,4)\n",
    "print(res)"
   ]
  },
  {
   "cell_type": "code",
   "execution_count": null,
   "metadata": {},
   "outputs": [],
   "source": []
  }
 ],
 "metadata": {
  "kernelspec": {
   "display_name": "Python 3",
   "language": "python",
   "name": "python3"
  },
  "language_info": {
   "codemirror_mode": {
    "name": "ipython",
    "version": 3
   },
   "file_extension": ".py",
   "mimetype": "text/x-python",
   "name": "python",
   "nbconvert_exporter": "python",
   "pygments_lexer": "ipython3",
   "version": "3.7.6"
  }
 },
 "nbformat": 4,
 "nbformat_minor": 4
}
