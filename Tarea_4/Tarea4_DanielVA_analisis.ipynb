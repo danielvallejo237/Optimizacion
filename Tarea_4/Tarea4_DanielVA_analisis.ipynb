{
 "cells": [
  {
   "cell_type": "markdown",
   "metadata": {},
   "source": [
    "# Análisis de datos de minst"
   ]
  },
  {
   "cell_type": "code",
   "execution_count": 1,
   "metadata": {},
   "outputs": [
    {
     "name": "stdout",
     "output_type": "stream",
     "text": [
      "(50000, 784) (50000,)\n",
      "(10000, 784) (10000,)\n",
      "(10000, 784) (10000,)\n"
     ]
    }
   ],
   "source": [
    "import gzip, pickle\n",
    "import math\n",
    "import numpy as np\n",
    "with gzip.open('mnist.pkl.gz','rb') as f:\n",
    "    u = pickle._Unpickler(f)\n",
    "    u.encoding = 'latin1'\n",
    "    train_set, val_set, test_set = u.load()\n",
    "print(train_set[0].shape, train_set[1].shape)\n",
    "print(val_set[0].shape, val_set[1].shape)\n",
    "print(test_set[0].shape, test_set[1].shape)\n"
   ]
  },
  {
   "cell_type": "code",
   "execution_count": 2,
   "metadata": {},
   "outputs": [],
   "source": [
    "lista=list()\n",
    "for i in range(train_set[0].shape[0]):\n",
    "    if int(train_set[1][i])==1 or int(train_set[1][i])==0:\n",
    "        lista.append((int(train_set[1][i]),train_set[0][i]))\n",
    "        \n",
    "#print(lista[0][1])\n"
   ]
  },
  {
   "cell_type": "code",
   "execution_count": 48,
   "metadata": {},
   "outputs": [],
   "source": [
    "from numpy import linalg as la\n",
    "def pi_x(x,i):\n",
    "    #print(x)\n",
    "    var=(1.0)/(1.0+math.exp(-1*np.dot(lista[i][1].T,x[:-1])-x[-1])+1e-10)\n",
    "    #print(var)\n",
    "    return var\n",
    "\n",
    "def log_likelihood(beta):\n",
    "    suma=0\n",
    "    for i in range(len(lista)):\n",
    "        beta=np.zeros(785,dtype=np.float32)\n",
    "        suma += lista[i][0]*math.log(pi_x(beta,i))+(1-lista[i][0])*math.log(1-pi_x(beta,i))\n",
    "    return suma"
   ]
  },
  {
   "cell_type": "code",
   "execution_count": 49,
   "metadata": {},
   "outputs": [],
   "source": [
    "def der_pix(x,i):\n",
    "    k=math.exp(-1*np.dot(lista[i][1].T,x[:-1])-x[-1])\n",
    "    l=(1+math.exp(-1*np.dot(lista[i][1].T,x[:-1])-x[-1]))**2\n",
    "    vec=np.zeros(785,dtype=np.float32)\n",
    "    for j in range(784):\n",
    "        vec[j]=lista[i][1][j]\n",
    "    vec[784]=1\n",
    "    return k/l*vec\n",
    "\n",
    "def der_likelihood(beta):\n",
    "    return -1*sum((lista[i][0]/pi_x(beta,i)-((1-lista[i][0])/(1-pi_x(beta,i))))*der_pix(beta,i) for i in range(len(lista)))"
   ]
  },
  {
   "cell_type": "code",
   "execution_count": 56,
   "metadata": {},
   "outputs": [],
   "source": [
    "def backtracking_direction(x,a,p,c,dd,tf): #Veremos si el alpha satisface la condción de Armijo para el suficiente descenso\n",
    "    alpha=a\n",
    "    while tf(x+alpha*dd)> tf(x)+c*alpha*np.dot(dd.T,dd):\n",
    "        alpha=p*alpha\n",
    "    return alpha #Este es el alpha óptimo \n",
    "\n",
    "def Barzilai_Borwein_descenso(x0,maxitr,epsilon,grad,tf): #la función en este caso no se ocupa\n",
    "    k=0\n",
    "    g_k=grad(x0)\n",
    "    g=-1*g_k\n",
    "    g=g/la.norm(g)\n",
    "    x_k=x0\n",
    "    iterations=0\n",
    "    while la.norm(g_k)>epsilon and iterations<maxitr:\n",
    "        if k==0:\n",
    "            a=backtracking_direction(x_k,0.2,0.5,0.5,g,tf)\n",
    "            #print(a)\n",
    "        else:\n",
    "            a=np.dot((x_k-x_kant).T,(g_k-g_k_t))*(1/np.dot((g_k-g_k_t).T,(g_k-g_k_t)))\n",
    "            #print(a)\n",
    "        x_kant=x_k\n",
    "        g_k_t=grad(x_kant)\n",
    "        x_k=x_k+a*g\n",
    "        g_k=grad(x_k)\n",
    "        g=-1*g_k\n",
    "        k=k+1\n",
    "        iterations=iterations+1\n",
    "        print(la.norm(g_k))\n",
    "    return np.array([x_k,g_k])\n",
    "\n",
    "def modified_backtracking_direction(x,C,a,p,c1,dd,tf): #Veremos si el alpha satisface la condción de Armijo para el suficiente descenso\n",
    "    alpha=a\n",
    "    while tf(x+alpha*dd) > C +c1*alpha*np.dot(dd.T,dd):\n",
    "        alpha=p*alpha\n",
    "    return alpha #Este es el alpha óptimo \n",
    "\n",
    "def Zhang_Hager(x0,maxitr,epsilon,nu,grad,tf):\n",
    "    k=0\n",
    "    g_k=grad(x0)\n",
    "    g=-1*g_k\n",
    "    iterations=0\n",
    "    Q=1\n",
    "    x_k=x0\n",
    "    C=tf(x_k)\n",
    "    trial=modified_backtracking_direction(x_k,C,1,0.5,0.5,g,tf)\n",
    "    while la.norm(g_k)>epsilon and iterations<maxitr:\n",
    "        a=modified_backtracking_direction(x_k,C,trial,0.5,0.5,g,tf)\n",
    "        trial=a\n",
    "        Q_ant=Q\n",
    "        x_k=x_k+a*g\n",
    "        g_k=grad(x_k)\n",
    "        g=-1*g_k\n",
    "        Q=Q_ant+1\n",
    "        C=(nu*Q_ant*C+tf(x_k))/Q\n",
    "        k=k+1\n",
    "    return np.array([x_k,g_k])"
   ]
  },
  {
   "cell_type": "code",
   "execution_count": 57,
   "metadata": {},
   "outputs": [],
   "source": [
    "puntoinic=np.zeros(785,dtype=np.float32)\n",
    "#res=der_likelihood(puntoinic)\n",
    "#print(la.norm(res))"
   ]
  },
  {
   "cell_type": "code",
   "execution_count": 58,
   "metadata": {},
   "outputs": [
    {
     "name": "stdout",
     "output_type": "stream",
     "text": [
      "28319.805\n",
      "13837.741\n",
      "6700.988\n",
      "4522.338\n",
      "2002.9633\n",
      "1087.6434\n",
      "560.93787\n",
      "309.40857\n",
      "201.28621\n",
      "169.50356\n",
      "108.9115\n",
      "95.683235\n",
      "70.79222\n",
      "38.132683\n",
      "69.238716\n",
      "36.035004\n",
      "22.473394\n",
      "21.797468\n",
      "17.406712\n",
      "11.781034\n",
      "124.91674\n",
      "8.690345\n",
      "8.3056965\n",
      "8.0655\n",
      "7.36252\n",
      "9.180305\n",
      "10.177657\n",
      "6.462254\n",
      "6.411109\n",
      "3.8745039\n",
      "34.864105\n",
      "30.410202\n",
      "6.5293193\n",
      "6.0855684\n",
      "1.9037592\n",
      "2.9216647\n",
      "3.283677\n",
      "1.4849443\n",
      "1.4743469\n",
      "1.3100882\n",
      "1.2986461\n",
      "2.1177537\n",
      "4.694052\n",
      "1.0171516\n",
      "0.9989344\n",
      "0.9369919\n",
      "0.88631636\n",
      "0.76298124\n",
      "9.519317\n",
      "0.7249214\n",
      "0.68119174\n",
      "0.59706026\n",
      "0.5406373\n",
      "0.9304023\n",
      "0.5003852\n",
      "0.49743488\n",
      "0.4916673\n",
      "0.19349962\n",
      "3.400626\n",
      "0.1790331\n",
      "0.15359302\n",
      "0.14148486\n",
      "0.13056827\n",
      "0.10866197\n",
      "0.2545051\n",
      "0.09874032\n",
      "0.09674931\n",
      "0.09619882\n",
      "0.07514287\n",
      "0.2522466\n",
      "0.6353304\n",
      "0.06674586\n",
      "0.06457299\n",
      "0.05481665\n",
      "0.05314637\n",
      "0.19639792\n",
      "0.0437037\n",
      "0.043515895\n",
      "0.04017415\n",
      "0.021067254\n",
      "0.022730483\n",
      "7.74343\n",
      "0.021483207\n",
      "0.021152006\n",
      "0.01806619\n",
      "0.016162837\n",
      "0.013749187\n",
      "0.014581236\n",
      "0.016737008\n",
      "0.009570984\n",
      "0.009381795\n",
      "0.008223379\n",
      "0.00795134\n",
      "0.023332145\n",
      "0.007250246\n",
      "0.007205819\n",
      "0.0071523814\n",
      "0.0030094744\n",
      "0.0027634953\n",
      "0.020143766\n",
      "0.037047517\n",
      "0.0036429593\n",
      "0.0033276684\n",
      "0.0021460738\n",
      "0.0021735479\n",
      "0.0044225403\n",
      "0.001330552\n",
      "0.0013161813\n",
      "0.0012055746\n",
      "0.0010571647\n",
      "0.0067898086\n",
      "0.00096168066\n",
      "0.00088649517\n",
      "0.0008820961\n",
      "0.0008603099\n",
      "0.0006832452\n",
      "0.023892734\n",
      "0.00088092376\n",
      "0.000714137\n",
      "0.00062881183\n",
      "0.00059522333\n",
      "0.00042972257\n",
      "0.00043782737\n",
      "0.0008590138\n",
      "0.00038896484\n",
      "0.00038737402\n",
      "0.00037583374\n",
      "0.00017961721\n",
      "0.09325174\n",
      "0.0007277534\n",
      "0.00068093423\n",
      "0.00013595096\n",
      "0.00011523203\n",
      "0.00011217719\n",
      "9.540052e-05\n",
      "[[0.0000000e+00 0.0000000e+00 0.0000000e+00 ... 0.0000000e+00\n",
      "  0.0000000e+00 8.4588823e+00]\n",
      " [0.0000000e+00 0.0000000e+00 0.0000000e+00 ... 0.0000000e+00\n",
      "  0.0000000e+00 2.3479744e-05]]\n"
     ]
    }
   ],
   "source": [
    "res=Barzilai_Borwein_descenso(puntoinic,1000,1e-4,der_likelihood,log_likelihood)\n",
    "print(res)"
   ]
  },
  {
   "cell_type": "code",
   "execution_count": 59,
   "metadata": {},
   "outputs": [
    {
     "name": "stdout",
     "output_type": "stream",
     "text": [
      "[[0.0000000e+00 0.0000000e+00 0.0000000e+00 ... 0.0000000e+00\n",
      "  0.0000000e+00 8.4588823e+00]\n",
      " [0.0000000e+00 0.0000000e+00 0.0000000e+00 ... 0.0000000e+00\n",
      "  0.0000000e+00 2.3479744e-05]]\n"
     ]
    }
   ],
   "source": [
    "print(res)"
   ]
  },
  {
   "cell_type": "code",
   "execution_count": 62,
   "metadata": {},
   "outputs": [],
   "source": [
    "puntomax=res[0]"
   ]
  },
  {
   "cell_type": "code",
   "execution_count": 75,
   "metadata": {},
   "outputs": [],
   "source": [
    "test_list=list()\n",
    "for i in range(test_set[0].shape[0]):\n",
    "    if int(test_set[1][i])==1 or int(test_set[1][i])==0:\n",
    "        test_list.append((int(test_set[1][i]),test_set[0][i]))\n",
    "\n",
    "def pi_xtest(x,i):\n",
    "    #print(x)\n",
    "    var=(1.0)/(1.0+math.exp(-1*np.dot(test_list[i][1].T,x[:-1])-x[-1])+1e-10)\n",
    "    #print(var)\n",
    "    return var        "
   ]
  },
  {
   "cell_type": "code",
   "execution_count": 79,
   "metadata": {},
   "outputs": [],
   "source": [
    "def indicadora_beta1_0(beta,i):\n",
    "    if pi_xtest(beta,i)>0.5:\n",
    "        res=1\n",
    "    else: \n",
    "        res=0\n",
    "    return res\n",
    "\n",
    "def error_pred(beta):\n",
    "    return (1/len(test_list))*sum(abs(indicadora_beta1_0(beta,i)-test_list[i][0]) for i in range(len(test_list)))\n",
    "    "
   ]
  },
  {
   "cell_type": "code",
   "execution_count": 80,
   "metadata": {},
   "outputs": [],
   "source": [
    "error=error_pred(puntomax)"
   ]
  },
  {
   "cell_type": "code",
   "execution_count": 81,
   "metadata": {},
   "outputs": [
    {
     "name": "stdout",
     "output_type": "stream",
     "text": [
      "0.00047281323877068556\n"
     ]
    }
   ],
   "source": [
    "print(error)"
   ]
  },
  {
   "cell_type": "code",
   "execution_count": null,
   "metadata": {},
   "outputs": [],
   "source": []
  }
 ],
 "metadata": {
  "kernelspec": {
   "display_name": "Python 3",
   "language": "python",
   "name": "python3"
  },
  "language_info": {
   "codemirror_mode": {
    "name": "ipython",
    "version": 3
   },
   "file_extension": ".py",
   "mimetype": "text/x-python",
   "name": "python",
   "nbconvert_exporter": "python",
   "pygments_lexer": "ipython3",
   "version": "3.7.4"
  }
 },
 "nbformat": 4,
 "nbformat_minor": 4
}
