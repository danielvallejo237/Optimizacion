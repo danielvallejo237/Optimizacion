{
 "cells": [
  {
   "cell_type": "markdown",
   "metadata": {},
   "source": [
    "## Proyecto final de optimización 1\n",
    "### Max K cut par k=2 usando semi definite relaxation"
   ]
  },
  {
   "cell_type": "markdown",
   "metadata": {},
   "source": [
    "# Parte 1: Importar el conjunto de grafos que se van a probar"
   ]
  },
  {
   "cell_type": "code",
   "execution_count": 9,
   "metadata": {},
   "outputs": [],
   "source": [
    "import networkx as nx\n",
    "import numpy as np"
   ]
  },
  {
   "cell_type": "code",
   "execution_count": 21,
   "metadata": {},
   "outputs": [],
   "source": [
    "\n",
    "def cargar_grafos(path):\n",
    "    graph = nx.Graph()\n",
    "    with open(path) as file:\n",
    "        n_nodes = int(file.readline().split(' ', 1)[0])\n",
    "        graph.add_nodes_from(range(n_nodes))\n",
    "        for row in file:\n",
    "            start, end, weight = [int(e) for e in row.strip('\\n').split()]\n",
    "            graph.add_edge(start - 1, end - 1, weight=weight)\n",
    "    return graph"
   ]
  },
  {
   "cell_type": "markdown",
   "metadata": {},
   "source": [
    "## Parte 2: Creación de la clase abstracta para la solución de máximo corte"
   ]
  },
  {
   "cell_type": "code",
   "execution_count": 49,
   "metadata": {},
   "outputs": [],
   "source": [
    "#creación de la clase para resolver el problema de la SDP\n",
    "#Una clase abstracta importada de la librería abc\n",
    "import cvxpy as cp\n",
    "from abc import ABCMeta, abstractmethod "
   ]
  },
  {
   "cell_type": "code",
   "execution_count": 50,
   "metadata": {},
   "outputs": [],
   "source": [
    "class AbstractMaxCut(metaclass=ABCMeta):\n",
    "    def __init__(self,graph):\n",
    "        self.graph=graph\n",
    "        self._solution=None\n",
    "        \n",
    "    def get_results(self, item='cut', verbose=False): #Regresa los lazy evaluated max-cut alcanzados, regresa el corte o su valor en la matriz inicial resolviendo el programa SDP\n",
    "        if self._results is None:\n",
    "            self.solve(verbose)\n",
    "        if item not in self._results:\n",
    "            valid = ', '.join([\"'%s'\" % key for key in self._results.keys()])\n",
    "            raise KeyError(\n",
    "                \"In valid 'item' keyword: should be one of {{%s}}.\" % valid\n",
    "            )\n",
    "        return self._results.get(item)\n",
    "\n",
    "    @abstractmethod\n",
    "    def solve(self, verbose=True):\n",
    "        #Resolver el problema BM formulado del max cut usando RTR\n",
    "        return NotImplemented\n",
    "\n",
    "\n",
    "def get_partition(vectors):\n",
    "    \"\"\"Cut a graph based on a matricial solution using randomized rounding.\n",
    "    vectors   : matrix of vectors of unit norm (as rows)\n",
    "    defining the cut probabilities to round up\n",
    "     Use the Goemans-Williamson rounding technique, deciding which\n",
    "    set to assign each node depending on the sign of the dot product\n",
    "    between said node's vector and a random unit-norm one.\n",
    "    Return a list of {{-1, +1}} values indicating to which part\n",
    "    each node belongs.\n",
    "    \"\"\"\n",
    "     # Pick a random vector on the unit sphere.\n",
    "    random = np.random.normal(size=vectors.shape[1])\n",
    "    random /= np.linalg.norm(random, 2)\n",
    "    # Compute partition probabilities and round the cut.\n",
    "    return np.sign(np.dot(vectors, random))\n",
    "\n",
    "\n",
    "def get_cut_value(graph, partition):\n",
    "    \"\"\"Compute the share of edges' weights in a given cut.\n",
    "     graph     : graph being cut off\n",
    "     partition : list of {{-1, +1}} values indicating\n",
    "              to which part each node belongs\n",
    "    \"\"\"\n",
    "    in_cut = sum(attr['weight'] for u, v, attr in graph.edges(data=True) if partition[u] != partition[v])\n",
    "    total = .5 * nx.adjacency_matrix(graph).sum()\n",
    "    return in_cut / total"
   ]
  },
  {
   "cell_type": "code",
   "execution_count": 51,
   "metadata": {},
   "outputs": [],
   "source": [
    "\n",
    "\n",
    "class MaxCutSDP(AbstractMaxCut):\n",
    "    \"\"\"Semi-Definite Programming based solver for the Max-Cut problem.\n",
    "    Given a graph with non-negative weights, the method implemented\n",
    "    here aims at maximizing $$\\\\sum_{{i < j}} w_{{ij}}(1 - x_{{ij}})$$\n",
    "    where $X = (x_{{ij}}))$ is a positive semi-definite matrix with\n",
    "    values equal to 1 on its diagonal.\n",
    "    The implementation relies on an external solver, interfaced\n",
    "    through the `cvxpy` package, thus allowing the user to select\n",
    "    the precise solver to use (by default, 'scs').\n",
    "    Usage:\n",
    "    >>> sdp = MaxCutSDP(graph)\n",
    "    >>> cut = sdp.get_solution('cut')          # solve problem here\n",
    "    >>> cut_value = sdp.get_solution('value')  # get pre-computed solution\n",
    "    \"\"\"\n",
    "\n",
    "    def __init__(self, graph, solver='scs'):\n",
    "        \"\"\"Instantiate the SDP-relaxed Max-Cut solver.\n",
    "        graph  : networkx.Graph instance of the graph to cut\n",
    "        solver : name of the solver to use (default 'scs')\n",
    "        Note:\n",
    "        'cvxopt' appears, in general, better than 'scs', but tends\n",
    "        to disfunction on large (or even middle-sized) graphs, for\n",
    "        an unknown reason internal to it. 'scs' is thus preferred\n",
    "        as default solver.\n",
    "        \"\"\"\n",
    "        # Declare the graph attribute and the __results backend one.\n",
    "        super().__init__(graph)\n",
    "        # Check that the required solver is available through cvxpy.\n",
    "        solver = solver.upper()\n",
    "        if solver not in cp.installed_solvers():\n",
    "            raise KeyError(\"Solver '%s' is not installed.\" % solver)\n",
    "        self.solver = getattr(cp, solver)\n",
    "\n",
    "    def solve(self, verbose=True):\n",
    "        \"\"\"Solve the SDP-relaxed max-cut problem.\n",
    "        Resulting cut, value of the cut and solved matrix\n",
    "        may be accessed through the `get_solution` method.\n",
    "        \"\"\"\n",
    "        # Solve the program. Marginally adjust the matrix to be PSD if needed.\n",
    "        matrix = self._solve_sdp()\n",
    "        matrix = nearest_psd(matrix)\n",
    "        # Get the cut defined by the matrix.\n",
    "        vectors = np.linalg.cholesky(matrix)\n",
    "        cut = get_partition(vectors)\n",
    "        # Get the value of the cut. Store results.\n",
    "        value = get_cut_value(self.graph, cut)\n",
    "        self._results = {'matrix': matrix, 'cut': cut, 'value': value}\n",
    "        # Optionally be verbose about the results.\n",
    "        if verbose:\n",
    "            print(\n",
    "                \"Solved the SDP-relaxed max-cut problem.\\n\"\n",
    "                \"Solution cuts off %f share of total weights.\" % value\n",
    "            )\n",
    "\n",
    "    def _solve_sdp(self):\n",
    "        \"\"\"Solve the SDP-relaxed max-cut problem.\n",
    "        Return the matrix maximizing <C, 1 - X>\n",
    "        \"\"\"\n",
    "        # Gather properties of the graph to cut.\n",
    "        n_nodes = len(self.graph)\n",
    "        adjacent = nx.adjacency_matrix(self.graph).toarray()\n",
    "        # Set up the semi-definite program.\n",
    "        matrix = cp.Variable((n_nodes, n_nodes), PSD=True)\n",
    "        cut = .25 * cp.sum(cp.multiply(adjacent, 1 - matrix))\n",
    "        problem = cp.Problem(cp.Maximize(cut), [cp.diag(matrix) == 1])\n",
    "        # Solve the program.\n",
    "        problem.solve(getattr(cp, self.solver))\n",
    "        return matrix.value\n",
    "\n",
    "\n",
    "def nearest_psd(matrix):\n",
    "    \"\"\"Find the nearest positive-definite matrix to input.\n",
    "    Numpy can be troublesome with rounding values and stating\n",
    "    a matrix is PSD. This function is thus used to enable the\n",
    "    decomposition of result matrices\n",
    "    (altered code from) source:\n",
    "    https://gist.github.com/fasiha/fdb5cec2054e6f1c6ae35476045a0bbd\n",
    "    \"\"\"\n",
    "    if is_psd(matrix):\n",
    "        return matrix\n",
    "    # false positive warning; pylint: disable=assignment-from-no-return\n",
    "    spacing = np.spacing(np.linalg.norm(matrix))\n",
    "    identity = np.identity(len(matrix))\n",
    "    k = 1\n",
    "    while not is_psd(matrix):\n",
    "        min_eig = np.min(np.real(np.linalg.eigvals(matrix)))\n",
    "        matrix += identity * (- min_eig * (k ** 2) + spacing)\n",
    "        k += 1\n",
    "    return matrix\n",
    "\n",
    "\n",
    "def is_psd(matrix):\n",
    "    \"\"\"Check whether a given matrix is PSD to numpy.\"\"\"\n",
    "    try:\n",
    "        _ = np.linalg.cholesky(matrix)\n",
    "        return True\n",
    "    except np.linalg.LinAlgError:\n",
    "        return False"
   ]
  },
  {
   "cell_type": "markdown",
   "metadata": {},
   "source": [
    "## Parte de la prueba del algoritmo de Max Cut"
   ]
  },
  {
   "cell_type": "code",
   "execution_count": 52,
   "metadata": {},
   "outputs": [
    {
     "name": "stdout",
     "output_type": "stream",
     "text": [
      "<class 'networkx.classes.graph.Graph'>\n"
     ]
    }
   ],
   "source": [
    "grafo=cargar_grafos(\"./G14\")\n",
    "print(type(grafo))"
   ]
  },
  {
   "cell_type": "code",
   "execution_count": 53,
   "metadata": {},
   "outputs": [
    {
     "name": "stdout",
     "output_type": "stream",
     "text": [
      "Failure:Interrupted\n"
     ]
    },
    {
     "ename": "SolverError",
     "evalue": "Solver 'SCS' failed. Try another solver, or solve with verbose=True for more information.",
     "output_type": "error",
     "traceback": [
      "\u001b[0;31m---------------------------------------------------------------------------\u001b[0m",
      "\u001b[0;31mSolverError\u001b[0m                               Traceback (most recent call last)",
      "\u001b[0;32m<ipython-input-53-0c8fc9a88bef>\u001b[0m in \u001b[0;36m<module>\u001b[0;34m\u001b[0m\n\u001b[1;32m      1\u001b[0m \u001b[0msdp\u001b[0m \u001b[0;34m=\u001b[0m \u001b[0mMaxCutSDP\u001b[0m\u001b[0;34m(\u001b[0m\u001b[0mgrafo\u001b[0m\u001b[0;34m)\u001b[0m\u001b[0;34m\u001b[0m\u001b[0;34m\u001b[0m\u001b[0m\n\u001b[0;32m----> 2\u001b[0;31m \u001b[0msdp\u001b[0m\u001b[0;34m.\u001b[0m\u001b[0msolve\u001b[0m\u001b[0;34m(\u001b[0m\u001b[0;34m)\u001b[0m\u001b[0;34m\u001b[0m\u001b[0;34m\u001b[0m\u001b[0m\n\u001b[0m\u001b[1;32m      3\u001b[0m \u001b[0;31m#cut_value = sdp.get_results('value')\u001b[0m\u001b[0;34m\u001b[0m\u001b[0;34m\u001b[0m\u001b[0;34m\u001b[0m\u001b[0m\n",
      "\u001b[0;32m<ipython-input-51-1a555100ff92>\u001b[0m in \u001b[0;36msolve\u001b[0;34m(self, verbose)\u001b[0m\n\u001b[1;32m     38\u001b[0m         \"\"\"\n\u001b[1;32m     39\u001b[0m         \u001b[0;31m# Solve the program. Marginally adjust the matrix to be PSD if needed.\u001b[0m\u001b[0;34m\u001b[0m\u001b[0;34m\u001b[0m\u001b[0;34m\u001b[0m\u001b[0m\n\u001b[0;32m---> 40\u001b[0;31m         \u001b[0mmatrix\u001b[0m \u001b[0;34m=\u001b[0m \u001b[0mself\u001b[0m\u001b[0;34m.\u001b[0m\u001b[0m_solve_sdp\u001b[0m\u001b[0;34m(\u001b[0m\u001b[0;34m)\u001b[0m\u001b[0;34m\u001b[0m\u001b[0;34m\u001b[0m\u001b[0m\n\u001b[0m\u001b[1;32m     41\u001b[0m         \u001b[0mmatrix\u001b[0m \u001b[0;34m=\u001b[0m \u001b[0mnearest_psd\u001b[0m\u001b[0;34m(\u001b[0m\u001b[0mmatrix\u001b[0m\u001b[0;34m)\u001b[0m\u001b[0;34m\u001b[0m\u001b[0;34m\u001b[0m\u001b[0m\n\u001b[1;32m     42\u001b[0m         \u001b[0;31m# Get the cut defined by the matrix.\u001b[0m\u001b[0;34m\u001b[0m\u001b[0;34m\u001b[0m\u001b[0;34m\u001b[0m\u001b[0m\n",
      "\u001b[0;32m<ipython-input-51-1a555100ff92>\u001b[0m in \u001b[0;36m_solve_sdp\u001b[0;34m(self)\u001b[0m\n\u001b[1;32m     65\u001b[0m         \u001b[0mproblem\u001b[0m \u001b[0;34m=\u001b[0m \u001b[0mcp\u001b[0m\u001b[0;34m.\u001b[0m\u001b[0mProblem\u001b[0m\u001b[0;34m(\u001b[0m\u001b[0mcp\u001b[0m\u001b[0;34m.\u001b[0m\u001b[0mMaximize\u001b[0m\u001b[0;34m(\u001b[0m\u001b[0mcut\u001b[0m\u001b[0;34m)\u001b[0m\u001b[0;34m,\u001b[0m \u001b[0;34m[\u001b[0m\u001b[0mcp\u001b[0m\u001b[0;34m.\u001b[0m\u001b[0mdiag\u001b[0m\u001b[0;34m(\u001b[0m\u001b[0mmatrix\u001b[0m\u001b[0;34m)\u001b[0m \u001b[0;34m==\u001b[0m \u001b[0;36m1\u001b[0m\u001b[0;34m]\u001b[0m\u001b[0;34m)\u001b[0m\u001b[0;34m\u001b[0m\u001b[0;34m\u001b[0m\u001b[0m\n\u001b[1;32m     66\u001b[0m         \u001b[0;31m# Solve the program.\u001b[0m\u001b[0;34m\u001b[0m\u001b[0;34m\u001b[0m\u001b[0;34m\u001b[0m\u001b[0m\n\u001b[0;32m---> 67\u001b[0;31m         \u001b[0mproblem\u001b[0m\u001b[0;34m.\u001b[0m\u001b[0msolve\u001b[0m\u001b[0;34m(\u001b[0m\u001b[0mgetattr\u001b[0m\u001b[0;34m(\u001b[0m\u001b[0mcp\u001b[0m\u001b[0;34m,\u001b[0m \u001b[0mself\u001b[0m\u001b[0;34m.\u001b[0m\u001b[0msolver\u001b[0m\u001b[0;34m)\u001b[0m\u001b[0;34m)\u001b[0m\u001b[0;34m\u001b[0m\u001b[0;34m\u001b[0m\u001b[0m\n\u001b[0m\u001b[1;32m     68\u001b[0m         \u001b[0;32mreturn\u001b[0m \u001b[0mmatrix\u001b[0m\u001b[0;34m.\u001b[0m\u001b[0mvalue\u001b[0m\u001b[0;34m\u001b[0m\u001b[0;34m\u001b[0m\u001b[0m\n\u001b[1;32m     69\u001b[0m \u001b[0;34m\u001b[0m\u001b[0m\n",
      "\u001b[0;32m~/anaconda3/lib/python3.7/site-packages/cvxpy/problems/problem.py\u001b[0m in \u001b[0;36msolve\u001b[0;34m(self, *args, **kwargs)\u001b[0m\n\u001b[1;32m    288\u001b[0m         \u001b[0;32melse\u001b[0m\u001b[0;34m:\u001b[0m\u001b[0;34m\u001b[0m\u001b[0;34m\u001b[0m\u001b[0m\n\u001b[1;32m    289\u001b[0m             \u001b[0msolve_func\u001b[0m \u001b[0;34m=\u001b[0m \u001b[0mProblem\u001b[0m\u001b[0;34m.\u001b[0m\u001b[0m_solve\u001b[0m\u001b[0;34m\u001b[0m\u001b[0;34m\u001b[0m\u001b[0m\n\u001b[0;32m--> 290\u001b[0;31m         \u001b[0;32mreturn\u001b[0m \u001b[0msolve_func\u001b[0m\u001b[0;34m(\u001b[0m\u001b[0mself\u001b[0m\u001b[0;34m,\u001b[0m \u001b[0;34m*\u001b[0m\u001b[0margs\u001b[0m\u001b[0;34m,\u001b[0m \u001b[0;34m**\u001b[0m\u001b[0mkwargs\u001b[0m\u001b[0;34m)\u001b[0m\u001b[0;34m\u001b[0m\u001b[0;34m\u001b[0m\u001b[0m\n\u001b[0m\u001b[1;32m    291\u001b[0m \u001b[0;34m\u001b[0m\u001b[0m\n\u001b[1;32m    292\u001b[0m     \u001b[0;34m@\u001b[0m\u001b[0mclassmethod\u001b[0m\u001b[0;34m\u001b[0m\u001b[0;34m\u001b[0m\u001b[0m\n",
      "\u001b[0;32m~/anaconda3/lib/python3.7/site-packages/cvxpy/problems/problem.py\u001b[0m in \u001b[0;36m_solve\u001b[0;34m(self, solver, warm_start, verbose, parallel, gp, qcp, **kwargs)\u001b[0m\n\u001b[1;32m    573\u001b[0m         \u001b[0mfull_chain\u001b[0m \u001b[0;34m=\u001b[0m \u001b[0mself\u001b[0m\u001b[0;34m.\u001b[0m\u001b[0m_solving_chain\u001b[0m\u001b[0;34m.\u001b[0m\u001b[0mprepend\u001b[0m\u001b[0;34m(\u001b[0m\u001b[0mself\u001b[0m\u001b[0;34m.\u001b[0m\u001b[0m_intermediate_chain\u001b[0m\u001b[0;34m)\u001b[0m\u001b[0;34m\u001b[0m\u001b[0;34m\u001b[0m\u001b[0m\n\u001b[1;32m    574\u001b[0m         \u001b[0minverse_data\u001b[0m \u001b[0;34m=\u001b[0m \u001b[0mself\u001b[0m\u001b[0;34m.\u001b[0m\u001b[0m_intermediate_inverse_data\u001b[0m \u001b[0;34m+\u001b[0m \u001b[0msolving_inverse_data\u001b[0m\u001b[0;34m\u001b[0m\u001b[0;34m\u001b[0m\u001b[0m\n\u001b[0;32m--> 575\u001b[0;31m         \u001b[0mself\u001b[0m\u001b[0;34m.\u001b[0m\u001b[0munpack_results\u001b[0m\u001b[0;34m(\u001b[0m\u001b[0msolution\u001b[0m\u001b[0;34m,\u001b[0m \u001b[0mfull_chain\u001b[0m\u001b[0;34m,\u001b[0m \u001b[0minverse_data\u001b[0m\u001b[0;34m)\u001b[0m\u001b[0;34m\u001b[0m\u001b[0;34m\u001b[0m\u001b[0m\n\u001b[0m\u001b[1;32m    576\u001b[0m         \u001b[0;32mreturn\u001b[0m \u001b[0mself\u001b[0m\u001b[0;34m.\u001b[0m\u001b[0mvalue\u001b[0m\u001b[0;34m\u001b[0m\u001b[0;34m\u001b[0m\u001b[0m\n\u001b[1;32m    577\u001b[0m \u001b[0;34m\u001b[0m\u001b[0m\n",
      "\u001b[0;32m~/anaconda3/lib/python3.7/site-packages/cvxpy/problems/problem.py\u001b[0m in \u001b[0;36munpack_results\u001b[0;34m(self, solution, chain, inverse_data)\u001b[0m\n\u001b[1;32m    716\u001b[0m             raise error.SolverError(\n\u001b[1;32m    717\u001b[0m                     \u001b[0;34m\"Solver '%s' failed. \"\u001b[0m \u001b[0;34m%\u001b[0m \u001b[0mchain\u001b[0m\u001b[0;34m.\u001b[0m\u001b[0msolver\u001b[0m\u001b[0;34m.\u001b[0m\u001b[0mname\u001b[0m\u001b[0;34m(\u001b[0m\u001b[0;34m)\u001b[0m \u001b[0;34m+\u001b[0m\u001b[0;34m\u001b[0m\u001b[0;34m\u001b[0m\u001b[0m\n\u001b[0;32m--> 718\u001b[0;31m                     \u001b[0;34m\"Try another solver, or solve with verbose=True for more \"\u001b[0m\u001b[0;34m\u001b[0m\u001b[0;34m\u001b[0m\u001b[0m\n\u001b[0m\u001b[1;32m    719\u001b[0m                     \"information.\")\n\u001b[1;32m    720\u001b[0m         \u001b[0mself\u001b[0m\u001b[0;34m.\u001b[0m\u001b[0munpack\u001b[0m\u001b[0;34m(\u001b[0m\u001b[0msolution\u001b[0m\u001b[0;34m)\u001b[0m\u001b[0;34m\u001b[0m\u001b[0;34m\u001b[0m\u001b[0m\n",
      "\u001b[0;31mSolverError\u001b[0m: Solver 'SCS' failed. Try another solver, or solve with verbose=True for more information."
     ]
    }
   ],
   "source": [
    "sdp = MaxCutSDP(grafo)\n",
    "sdp.solve()     \n",
    "#cut_value = sdp.get_results('value') "
   ]
  },
  {
   "cell_type": "code",
   "execution_count": null,
   "metadata": {},
   "outputs": [],
   "source": []
  },
  {
   "cell_type": "code",
   "execution_count": null,
   "metadata": {},
   "outputs": [],
   "source": []
  },
  {
   "cell_type": "code",
   "execution_count": null,
   "metadata": {},
   "outputs": [],
   "source": []
  }
 ],
 "metadata": {
  "kernelspec": {
   "display_name": "Python 3",
   "language": "python",
   "name": "python3"
  },
  "language_info": {
   "codemirror_mode": {
    "name": "ipython",
    "version": 3
   },
   "file_extension": ".py",
   "mimetype": "text/x-python",
   "name": "python",
   "nbconvert_exporter": "python",
   "pygments_lexer": "ipython3",
   "version": "3.7.6"
  }
 },
 "nbformat": 4,
 "nbformat_minor": 4
}
