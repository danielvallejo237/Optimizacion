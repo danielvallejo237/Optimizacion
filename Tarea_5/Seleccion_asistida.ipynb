{
 "cells": [
  {
   "cell_type": "markdown",
   "metadata": {},
   "source": [
    "# Selección Asistida, Daniel Vallejo Aldana Optimización 1"
   ]
  },
  {
   "cell_type": "code",
   "execution_count": 88,
   "metadata": {},
   "outputs": [],
   "source": [
    "import numpy as np\n",
    "from numpy import linalg as la \n",
    "from functools import partial"
   ]
  },
  {
   "cell_type": "code",
   "execution_count": 89,
   "metadata": {},
   "outputs": [],
   "source": [
    "def LoadHist(source:str):\n",
    "    #Leer número de bins\n",
    "    with open(source, 'r') as f:\n",
    "        line = (f.readline()).split()\n",
    "    nbins = int(line[0])\n",
    "    #Leer los datos en la matriz de forma apropiada\n",
    "    hist = np.genfromtxt(source, skip_header=True)\n",
    "    hist = hist.reshape((nbins,nbins,nbins))\n",
    "    return hist\n"
   ]
  },
  {
   "cell_type": "code",
   "execution_count": 90,
   "metadata": {},
   "outputs": [],
   "source": [
    "def CartesianProduct(*arrays):\n",
    "    n = len(arrays)\n",
    "    result = np.vstack(np.meshgrid(*arrays)).reshape(n,-1).T\n",
    "    return result"
   ]
  },
  {
   "cell_type": "code",
   "execution_count": 91,
   "metadata": {},
   "outputs": [
    {
     "name": "stdout",
     "output_type": "stream",
     "text": [
      "[2. 2. 2.]\n"
     ]
    }
   ],
   "source": [
    "hist_0 = LoadHist('H_0.txt')\n",
    "\n",
    "hist_0=hist_0/hist_0.sum()\n",
    "hist_1 = LoadHist('H_1.txt')\n",
    "hist_1=hist_1/hist_1.sum()\n",
    "it = 0\n",
    "n = 1\n",
    "sigma = 1\n",
    "mu = np.zeros((n, 3))\n",
    "mu[0][:] = 2\n",
    "\n",
    "mu=np.reshape(mu,(3*n,))\n",
    "print(mu)\n",
    "hist = hist_0\n",
    "r = np.arange(hist.shape[0])\n",
    "c = CartesianProduct(r,r,r)\n",
    "\n",
    "alfa = np.ones((n))\n",
    "alfam = alfa*2\n",
    "mum = np.reshape(mu, (3*n,))*2"
   ]
  },
  {
   "cell_type": "code",
   "execution_count": 92,
   "metadata": {},
   "outputs": [],
   "source": [
    "def f(hist,c, n,alpha, mu, sigma):\n",
    "\n",
    "    #print(alpha)\n",
    "    #print(mu)\n",
    "    h = np.sum(hist)\n",
    "    proba = 0\n",
    "    for i in range(n):\n",
    "        density = -((c-mu[i])**2).sum(axis=1)\n",
    "        density = density/(2*(sigma**2))\n",
    "        density = alpha[i]*np.exp(density)\n",
    "        proba += density\n",
    "    ret = ((h-proba)**2).sum()\n",
    "    return ret"
   ]
  },
  {
   "cell_type": "code",
   "execution_count": null,
   "metadata": {},
   "outputs": [],
   "source": []
  },
  {
   "cell_type": "code",
   "execution_count": 93,
   "metadata": {},
   "outputs": [],
   "source": [
    "def grad_alfa(hist,c, n,alpha, mu, sigma):\n",
    "    ret = np.zeros(n)\n",
    "    local = np.zeros(n)\n",
    "    r = c.shape[0]\n",
    "    for j in range(r):\n",
    "        for i in range(n):\n",
    "            density = -((c[j]-mu[3*i:3*(i+1)])**2).sum()\n",
    "            density = density/(2*(sigma**2))\n",
    "            density = np.exp(density)\n",
    "            local[i] = -density\n",
    "        sumexp = (-alpha*local).sum()\n",
    "        ret += 2*(hist[tuple(c[j])]-sumexp)*local\n",
    "    return ret\n",
    "\n"
   ]
  },
  {
   "cell_type": "code",
   "execution_count": 94,
   "metadata": {},
   "outputs": [],
   "source": [
    "#alfa es el alpha global y alpha el local\n",
    "#mu es el glibal y mus el local\n",
    "\n",
    "def grad_miu(hist,c, n,alpha, mu, sigma):\n",
    "    ret = np.zeros(3*n)\n",
    "    local1 = np.zeros(n)\n",
    "    local2 = np.zeros(3*n)\n",
    "    r = c.shape[0]\n",
    "    for j in range(r):\n",
    "        for i in range(n):\n",
    "            density = -((c[j]-mu[3*i:3*(i+1)])**2).sum()\n",
    "            density = density/(2*(sigma**2))\n",
    "            density = np.exp(density)\n",
    "            local2[3*i:3*(i+1)] = density*((alpha[i])/sigma**2)*(mu[3*i:3*(i+1)]-c[j])\n",
    "            local1[i] = density\n",
    "        sumexp = (-alpha*local1).sum()\n",
    "        ret += 2*(hist[tuple(c[j])]+sumexp)*local2\n",
    "    return ret\n"
   ]
  },
  {
   "cell_type": "code",
   "execution_count": 95,
   "metadata": {},
   "outputs": [],
   "source": [
    "\n",
    "def backtracking(f, g, xk, dk, fk, gk, alpha0, c1, c2, max_iter=1000):\n",
    "   \n",
    "    alpha = 0\n",
    "    beta = float('inf')\n",
    "    alphai = alpha0\n",
    "    it = 0\n",
    "    while 1 and it < max_iter:\n",
    "        if f(xk + alphai*dk) > fk + c1*alphai*np.dot(np.transpose(gk), dk):\n",
    "            beta = alphai\n",
    "            alphai = (alpha + beta)/2\n",
    "        elif np.dot(np.transpose(g(xk + alphai*dk)), dk) < c2*np.dot(np.transpose(gk), dk):\n",
    "            alpha = alphai\n",
    "            if beta == float('inf'):\n",
    "                alphai = 2*alpha\n",
    "            else:\n",
    "                alphai = (alpha + beta)/2\n",
    "        else:\n",
    "            break\n",
    "        it+=1\n",
    "    return alphai\n",
    "\n",
    "\n",
    "def BB_paso(xk, xkm, gk, gkm, flag=False):\n",
    "    s = xk - xkm\n",
    "    y = gk - gkm\n",
    "    if flag:\n",
    "        return np.dot(np.transpose(s), s)/np.dot(np.transpose(s), y)\n",
    "    return np.dot(np.transpose(s), y)/np.dot(np.transpose(y), y)\n",
    "    \n",
    "def BarzilaiBorwein(f, g, x0, tolx=1e-9, tolf=1e-9, tolg=1e-4, max_iter=10000):\n",
    "    xk = x0\n",
    "    xkm = xk + np.ones_like(xk)\n",
    "    fk = f(x0)\n",
    "    fkm = 2*fk\n",
    "    gk = g(x0)\n",
    "    #print(gk)\n",
    "    k = 0\n",
    "    while k < max_iter:\n",
    "        if np.linalg.norm(fk - fkm)/max(1, np.linalg.norm(fk)) < tolf:\n",
    "            print(np.linalg.norm(fk - fkm)/max(1, np.linalg.norm(fk)))\n",
    "            print(\"tol f\")\n",
    "            break\n",
    "        if np.linalg.norm(gk) < tolg:\n",
    "            print(\"tol g\")\n",
    "            break\n",
    "        if k == 0:\n",
    "            #print(x0)\n",
    "            alphak = backtracking(f, g, x0, -gk, fk, gk, 1, 0.001, 0.9)\n",
    "        else:\n",
    "            alphak = BB_paso(xk, xkm, gk, gkm, False)\n",
    "        xkm = xk\n",
    "        xk = xk - alphak*gk\n",
    "        fkm = fk\n",
    "        fk = f(xk)\n",
    "        gkm = gk\n",
    "        gk = g(xk)\n",
    "        k += 1\n",
    "        #print(xk)\n",
    "    return xk"
   ]
  },
  {
   "cell_type": "code",
   "execution_count": 96,
   "metadata": {},
   "outputs": [
    {
     "name": "stdout",
     "output_type": "stream",
     "text": [
      "0.0\n",
      "tol f\n",
      "3.721357307751312e-16\n",
      "tol f\n",
      "0.0\n",
      "tol f\n",
      "3.7213573077513108e-16\n",
      "tol f\n"
     ]
    }
   ],
   "source": [
    "while it < 100:\n",
    "    f_alpha=partial(f,hist,c,n,mu=mu,sigma=sigma)\n",
    "    grad_alpha=partial(grad_alfa,hist,c,n,mu=mu,sigma=sigma)\n",
    "    alfa = BarzilaiBorwein(f_alpha, grad_alpha, alfa, max_iter=1000)\n",
    "    #print(alfa)\n",
    "    #print(grad_alpha(alfa))\n",
    "    grad_mu=partial(grad_miu,hist,c,n,alfa,sigma=sigma)\n",
    "    f_mu=partial(f,hist,c,n,alfa,sigma=sigma)\n",
    "   # print(mu)\n",
    "    mu = BarzilaiBorwein(f_mu, grad_mu, np.reshape(mu, (3*n,)), max_iter=1000)\n",
    "    #print(grad_mu(mum))\n",
    "    if np.isclose(mum, mu).all() and np.isclose(alfam, alfa).all():\n",
    "        break\n",
    "    alfam = alfa\n",
    "    mum = mu\n",
    "    it+= 1"
   ]
  },
  {
   "cell_type": "code",
   "execution_count": null,
   "metadata": {},
   "outputs": [],
   "source": []
  },
  {
   "cell_type": "code",
   "execution_count": 97,
   "metadata": {},
   "outputs": [
    {
     "name": "stdout",
     "output_type": "stream",
     "text": [
      "[1.] [2. 2. 2.]\n"
     ]
    }
   ],
   "source": [
    "alfa_0=alfa\n",
    "mu_0=mu\n",
    "print(alfa_0,mu_0)"
   ]
  },
  {
   "cell_type": "code",
   "execution_count": 98,
   "metadata": {},
   "outputs": [
    {
     "name": "stdout",
     "output_type": "stream",
     "text": [
      "[1. 1. 1.]\n"
     ]
    }
   ],
   "source": [
    "it = 0\n",
    "n = 1\n",
    "sigma = 1\n",
    "mu = np.ones((n, 3))\n",
    "\n",
    "mu=np.reshape(mu,(3*n,))\n",
    "print(mu)\n",
    "hist = hist_1\n",
    "r = np.arange(hist.shape[0])\n",
    "c = CartesianProduct(r,r,r)\n",
    "\n",
    "alfa = np.ones((n))\n",
    "alfam = alfa*2\n",
    "mum = np.reshape(mu, (3*n,))*2"
   ]
  },
  {
   "cell_type": "code",
   "execution_count": 102,
   "metadata": {},
   "outputs": [
    {
     "name": "stdout",
     "output_type": "stream",
     "text": [
      "0.0\n",
      "tol f\n",
      "[1.]\n",
      "[1. 1. 1.]\n",
      "0.0\n",
      "tol f\n"
     ]
    }
   ],
   "source": [
    "while it < 1000:\n",
    "    f_alpha=partial(f,hist,c,n,mu=mu,sigma=sigma)\n",
    "    grad_alpha=partial(grad_alfa,hist,c,n,mu=mu,sigma=sigma)\n",
    "    alfa = BarzilaiBorwein(f_alpha, grad_alpha, alfa, max_iter=1000)\n",
    "    print(alfa)\n",
    "    #print(grad_alpha(alfa))\n",
    "    grad_mu=partial(grad_miu,hist,c,n,alfa,sigma=sigma)\n",
    "    f_mu=partial(f,hist,c,n,alfa,sigma=sigma)\n",
    "    print(mu)\n",
    "    mu = BarzilaiBorwein(f_mu, grad_mu, np.reshape(mu,(3*n,)), max_iter=1000)\n",
    "    #print(grad_mu(mum))\n",
    "    if np.isclose(mum, mu).all() and np.isclose(alfam, alfa).all():\n",
    "        break\n",
    "    alfam = alfa\n",
    "    mum = mu\n",
    "    it+= 1"
   ]
  },
  {
   "cell_type": "code",
   "execution_count": 103,
   "metadata": {},
   "outputs": [
    {
     "name": "stdout",
     "output_type": "stream",
     "text": [
      "[1.] [1. 1. 1.]\n"
     ]
    }
   ],
   "source": [
    "alfa_1=alfa\n",
    "mu_1=mu\n",
    "\n",
    "print(alfa_1,mu_1)"
   ]
  },
  {
   "cell_type": "code",
   "execution_count": 54,
   "metadata": {},
   "outputs": [],
   "source": [
    "def val_pixel(pixel, alpha, mu):\n",
    "    val=0.0\n",
    "    for i in range(len(alpha)):\n",
    "        val+=alpha[i]*np.exp(-la.norm(pixel-mu[i])**2)/(2*sigma**2)\n",
    "    return val"
   ]
  },
  {
   "cell_type": "code",
   "execution_count": 55,
   "metadata": {},
   "outputs": [],
   "source": [
    "def clasifica_colores(pixel,alpha_1,mu_1,alpha_2,mu_2,eps):\n",
    "    F_0=(val_pixel(pixel,alpha_1,mu_1)+eps)/(val_pixel(pixel,alpha_1,mu_1)+val_pixel(pixel,alpha_2,mu_2)+2*eps)\n",
    "    F_1=(val_pixel(pixel,alpha_2,mu_2)+eps)/(val_pixel(pixel,alpha_1,mu_1)+val_pixel(pixel,alpha_2,mu_2)+2*eps)\n",
    "    if F_0>=F_1:\n",
    "        return True\n",
    "    else:\n",
    "        return False"
   ]
  },
  {
   "cell_type": "code",
   "execution_count": 57,
   "metadata": {},
   "outputs": [
    {
     "name": "stdout",
     "output_type": "stream",
     "text": [
      "(600, 450, 3)\n"
     ]
    }
   ],
   "source": [
    "import cv2 \n",
    "img=cv2.imread('grave.png')\n",
    "save=np.zeros_like(img)\n",
    "print(save.shape)\n",
    "for i in range (img.shape[0]):\n",
    "    for j in range (img.shape[1]):\n",
    "        pixel=img[i,j]/255\n",
    "        pixel=pixel*hist_0.shape[0]\n",
    "        pixel.astype(int)\n",
    "        if clasifica_colores(pixel,alfa_0,mu_0,alfa_1,mu_1,0.01):\n",
    "            save.itemset((i,j,0),0)\n",
    "            save.itemset((i,j,1),0)\n",
    "            save.itemset((i,j,2),255)\n",
    "        else:\n",
    "            save.itemset((i,j,0),255)\n",
    "            save.itemset((i,j,1),0)\n",
    "            save.itemset((i,j,2),0)"
   ]
  },
  {
   "cell_type": "code",
   "execution_count": 58,
   "metadata": {},
   "outputs": [
    {
     "data": {
      "text/plain": [
       "True"
      ]
     },
     "execution_count": 58,
     "metadata": {},
     "output_type": "execute_result"
    }
   ],
   "source": [
    "cv2.imwrite(\"resultante_grave.png\",save)"
   ]
  },
  {
   "cell_type": "code",
   "execution_count": 104,
   "metadata": {},
   "outputs": [],
   "source": [
    "def histogram(pixel,hist_1,hist_0,eps):\n",
    "    H_1=(hist_0[tuple(pixel)]+eps)/(hist_1[tuple(pixel)]+hist_0[tuple(pixel)]+2*eps)\n",
    "    H_2=(hist_1[tuple(pixel)]+eps)/(hist_1[tuple(pixel)]+hist_0[tuple(pixel)]+2*eps)\n",
    "    if H_1>=H_2:\n",
    "        return True\n",
    "    else:\n",
    "        return False"
   ]
  },
  {
   "cell_type": "code",
   "execution_count": 105,
   "metadata": {},
   "outputs": [
    {
     "name": "stdout",
     "output_type": "stream",
     "text": [
      "(500, 500, 3)\n"
     ]
    }
   ],
   "source": [
    "img=cv2.imread('rose.png')\n",
    "save=np.zeros_like(img)\n",
    "print(save.shape)\n",
    "posi=np.linspace(0,255,hist_0.shape[0]+1)\n",
    "for i in range (img.shape[0]):\n",
    "    for j in range (img.shape[1]):\n",
    "        x=posi.searchsorted(img[i,j][0])-2\n",
    "        y=posi.searchsorted(img[i,j][1])-2\n",
    "        z=posi.searchsorted(img[i,j][2])-2\n",
    "        if histogram((x,y,z),hist_1,hist_0,0.01):\n",
    "            save.itemset((i,j,2),255)\n",
    "        else:\n",
    "            save.itemset((i,j,0),255)"
   ]
  },
  {
   "cell_type": "code",
   "execution_count": 106,
   "metadata": {},
   "outputs": [
    {
     "data": {
      "text/plain": [
       "True"
      ]
     },
     "execution_count": 106,
     "metadata": {},
     "output_type": "execute_result"
    }
   ],
   "source": [
    "cv2.imwrite(\"resultante_suave.png\",save)"
   ]
  },
  {
   "cell_type": "code",
   "execution_count": null,
   "metadata": {},
   "outputs": [],
   "source": []
  }
 ],
 "metadata": {
  "kernelspec": {
   "display_name": "Python 3",
   "language": "python",
   "name": "python3"
  },
  "language_info": {
   "codemirror_mode": {
    "name": "ipython",
    "version": 3
   },
   "file_extension": ".py",
   "mimetype": "text/x-python",
   "name": "python",
   "nbconvert_exporter": "python",
   "pygments_lexer": "ipython3",
   "version": "3.7.4"
  }
 },
 "nbformat": 4,
 "nbformat_minor": 4
}
