{
 "cells": [
  {
   "cell_type": "markdown",
   "metadata": {},
   "source": [
    "# Algoritmos de Interpolación Cúbica, Barzilai Borwein y Zhan Hager "
   ]
  },
  {
   "cell_type": "markdown",
   "metadata": {},
   "source": [
    "## Interpolación cúbica"
   ]
  },
  {
   "cell_type": "code",
   "execution_count": 130,
   "metadata": {},
   "outputs": [],
   "source": [
    "#Se ocupa el algoritmo de interpolación cuadrática para calcular el alpha1\n",
    "#aqui estamos usando dirección de descenso el -gradiente\n",
    "import numpy as np\n",
    "from numpy import linalg as la\n",
    "import math\n",
    "def backtracking_direction(x,a,p,c,dd,tf,delta): #Veremos si el alpha satisface la condción de Armijo para el suficiente descenso\n",
    "    alpha=a\n",
    "    while tf(x+alpha*dd)> tf(x)+c*alpha*np.dot(dd.T,dd):\n",
    "        alpha=p*alpha\n",
    "    return alpha #Este es el alpha óptimo \n",
    "\n",
    "def inter_cuadratica(a0,x_k,tf,grad,d_k,c1): #dado un punto a0, el x_k la función y la tolerancia del gradiente vamos a hacer lo siguiente\n",
    "    if tf(x_k+a0*d_k)>tf(x_k)+c1*a0*np.dot(grad(x_k).T,d_k): \n",
    "        numer=-a0**2*np.dot(grad(x_k).T,d_k)\n",
    "        denom=2*(tf(x_k+a0*d_k)-a0*np.dot(grad(x_k).T,d_k)-tf(x_k))\n",
    "        a1=numer*(1/denom)\n",
    "        while tf(x_k+a1*d_k)>tf(x_k)+c1*a1*np.dot(grad(x_k).T,d_k): #no satisface la condición de armijo\n",
    "            a0=a1\n",
    "            numer=-a0**2*np.dot(grad(x_k).T,d_k)\n",
    "            denom=2*(tf(x_k+a0*d_k)-a0*np.dot(grad(x_k).T,d_k)-tf(x_k))\n",
    "            a1=numer*(1/denom)\n",
    "    else:\n",
    "        a1=a0\n",
    "    return a1\n",
    "\n",
    "def inter_cubica(a0,x_k,tf,grad,d_k,c1):\n",
    "    a1=inter_cuadratica(a0,x_k,tf,grad,d_k,c1)\n",
    "    #No se satisface armijo para ninguna de las dos condiciones de armijo\n",
    "    if tf(x_k+a1*d_k)>tf(x_k)+c1*a1*np.dot(grad(x_k).T,d_k) and tf(x_k+a0*d_k)>tf(x_k)+c1*a0*np.dot(grad(x_k).T,d_k):\n",
    "        d=tf(x_k)\n",
    "        c=np.dot(grad(x_k).T,d_k)\n",
    "        vec=np.zeros(2)\n",
    "        vec[0]=a0**2*(tf(x_k+a1*d_k)-a1*np.dot(grad(x_k).T,d_k)-tf(x_k))-a1**2*(tf(x_k+a0*d_k)-a0*np.dot(grad(x_k).T,d_k)-tf(x_k))\n",
    "        vec[1]=-a0**3*(tf(x_k+a1*d_k)-a1*np.dot(grad(x_k).T,d_k)-tf(x_k))+a1**3*(tf(x_k+a0*d_k)-a0*np.dot(grad(x_k).T,d_k)-tf(x_k))\n",
    "        vec=(1/((a1**2*a0**2)*(a1-a0)))*vec\n",
    "        #print(vectoresab)\n",
    "        a2=(-1*vec[1]+math.sqrt(vec[1]**2-3*vec[0]*c))/(3*vec[0])\n",
    "        #print(vectoresab)\n",
    "        #print(vec)\n",
    "        while tf(x_k+a2*d_k)>tf(x_k)+c1*a2*np.dot(grad(x_k).T,d_k):\n",
    "            a0=a1\n",
    "            a1=a2\n",
    "            d=tf(x_k)\n",
    "            c=np.dot(grad(x_k).T,d_k)\n",
    "            vec[0]=a0**2*(tf(x_k+a1*d_k)-a1*np.dot(grad(x_k).T,d_k)-tf(x_k))-a1**2*(tf(x_k+a0*d_k)-a0*np.dot(grad(x_k).T,d_k)-tf(x_k))\n",
    "            vec[1]=-a0**3*(tf(x_k+a1*d_k)-a1*np.dot(grad(x_k).T,d_k)-tf(x_k))+a1**3*(tf(x_k+a0*d_k)-a0*np.dot(grad(x_k).T,d_k)-tf(x_k))\n",
    "            vec=(1/((a1**2*a0**2)*(a1-a0)))*vec\n",
    "            #print(vec)\n",
    "            #print(vectoresab)\n",
    "            a2=(-1*vec[1]+math.sqrt(vec[1]**2-3*vec[0]*c))/(3*vec[0])\n",
    "    else:\n",
    "        a2=a1\n",
    "    return a2\n",
    "\n",
    "\n",
    "def newton_line_search(x0,mxitr,tolgrad,tf,gf,H): #todas las condiciones de las funciones de búsqueda en linea.\n",
    "    iterations=0\n",
    "    g_k=gf(x0)\n",
    "    g_k_norm=la.norm(g_k)\n",
    "    g=-1*np.dot(la.inv(H(x0)),g_k)\n",
    "    #print(g)\n",
    "    difrelx=1e10 #inicializamos las diferencias\n",
    "    difrelf=1e10\n",
    "    puntoiter=x0\n",
    "    flag=True\n",
    "    stepsize=inter_cubica(1,puntoiter,tf,gf,g,1e-4)\n",
    "    #stepsize=1e-2 #intentemos con paso fijo\n",
    "    while iterations<mxitr and g_k_norm>tolgrad:\n",
    "        g_k=gf(puntoiter)\n",
    "        g_k_norm=la.norm(g_k)\n",
    "        while flag==True:\n",
    "            try:\n",
    "                la.cholesky(H(puntoiter))\n",
    "                flag=False#checo si la matriz es definida positiva que garantiza la dirección de descenso\n",
    "            except:\n",
    "                print('Matriz no definida positiva lo que no grantiza descenso')\n",
    "                H(puntoiter)+np.identity(H(puntoiter).shape[0])\n",
    "        stepsize=inter_cubica(1,puntoiter,tf,gf,g,1e-4)\n",
    "        g=-1*np.dot(la.inv(H(puntoiter)),g_k)#esta es la dirección de descenso garantizada porque H es positiva definida \n",
    "        puntoiter=puntoiter+stepsize*g\n",
    "        iterations=iterations+1\n",
    "        #print(iterations-1, '&', la.norm(g_k),'&',tf(puntoiter) )\n",
    "    return np.array([iterations,la.norm(g_k),tf(puntoiter)]) #el punto que es y lo que vale \n"
   ]
  },
  {
   "cell_type": "code",
   "execution_count": 131,
   "metadata": {},
   "outputs": [],
   "source": [
    "#funcion de prueba a wood de n=2\n",
    " #Definimos las funciones que vamos a utilizar en este caso\n",
    "    #usaremos el método de newton para probar este caso\n",
    "def f(datos): #Función objetivo o target function\n",
    "    x,y=datos\n",
    "    return 100*(y-x**2)**2+(1-x)**2\n",
    "\n",
    "def gradiente_f(datos): #gradiente de la función f\n",
    "    g=np.zeros(len(datos))\n",
    "    g[0]=2*(200*datos[0]**3-200*datos[0]*datos[1]+datos[0]-1)\n",
    "    g[1]=200*(datos[1]-datos[0]**2)\n",
    "    return g\n",
    "\n",
    "def hessiano_f(datos):\n",
    "    hes=np.zeros((len(datos),len(datos)))\n",
    "    hes[0][0]=2*(600*datos[0]**2-200*datos[1]+1)\n",
    "    hes[1][0]=-400*datos[0]\n",
    "    hes[0][1]=-400*datos[0]\n",
    "    hes[1][1]=200\n",
    "    return hes\n"
   ]
  },
  {
   "cell_type": "code",
   "execution_count": 132,
   "metadata": {},
   "outputs": [
    {
     "name": "stdout",
     "output_type": "stream",
     "text": [
      "[1.00000000e+02 1.70929704e-09 1.69739061e-20]\n"
     ]
    }
   ],
   "source": [
    "res=newton_line_search([-1.2,1],3000,1e-4,f,gradiente_f,hessiano_f)\n",
    "print(res)"
   ]
  },
  {
   "cell_type": "markdown",
   "metadata": {},
   "source": [
    "# Barzilai Borwein"
   ]
  },
  {
   "cell_type": "code",
   "execution_count": 133,
   "metadata": {},
   "outputs": [],
   "source": [
    "def backtracking_direction(x,a,p,c,dd,tf): #Veremos si el alpha satisface la condción de Armijo para el suficiente descenso\n",
    "    alpha=a\n",
    "    while tf(x+alpha*dd)> tf(x)+c*alpha*np.dot(dd.T,dd):\n",
    "        alpha=p*alpha\n",
    "    return alpha #Este es el alpha óptimo \n",
    "\n",
    "def Barzilai_Borwein_descenso(x0,maxitr,epsilon,grad,tf): #la función en este caso no se ocupa\n",
    "    k=0\n",
    "    g_k=grad(x0)\n",
    "    g=-1*g_k\n",
    "    x_k=x0\n",
    "    iterations=0\n",
    "    while la.norm(g_k)>epsilon and iterations<maxitr:\n",
    "        if k==0:\n",
    "            a=backtracking_direction(x_k,1,0.5,0.5,g,tf)\n",
    "        else:\n",
    "            a=np.dot((x_k-x_kant).T,(g_k-g_k_t))*(1/np.dot((g_k-g_k_t).T,(g_k-g_k_t)))\n",
    "        x_kant=x_k\n",
    "        g_k_t=grad(x_kant)\n",
    "        x_k=x_k+a*g\n",
    "        g_k=grad(x_k)\n",
    "        g=-1*g_k\n",
    "        k=k+1\n",
    "        iterations=iterations+1\n",
    "    return np.array([iterations,la.norm(g_k),tf(x_k)])"
   ]
  },
  {
   "cell_type": "code",
   "execution_count": 134,
   "metadata": {},
   "outputs": [
    {
     "name": "stdout",
     "output_type": "stream",
     "text": [
      "[1.90000000e+01 1.37029279e-06 2.34378508e-12]\n"
     ]
    }
   ],
   "source": [
    "res=Barzilai_Borwein_descenso([-1.2,1],2000,1e-4,gradiente_f,f)\n",
    "print(res)"
   ]
  },
  {
   "cell_type": "markdown",
   "metadata": {},
   "source": [
    "# Zhang Hager"
   ]
  },
  {
   "cell_type": "code",
   "execution_count": 135,
   "metadata": {},
   "outputs": [],
   "source": [
    "def modified_backtracking_direction(x,C,a,p,c1,dd,tf): #Veremos si el alpha satisface la condción de Armijo para el suficiente descenso\n",
    "    alpha=a\n",
    "    while tf(x+alpha*dd) > C +c1*alpha*np.dot(dd.T,dd):\n",
    "        alpha=p*alpha\n",
    "    return alpha #Este es el alpha óptimo \n",
    "\n",
    "def Zhang_Hager(x0,maxitr,epsilon,nu,grad,tf):\n",
    "    k=0\n",
    "    g_k=grad(x0)\n",
    "    g=-1*g_k\n",
    "    iterations=0\n",
    "    Q=1\n",
    "    x_k=x0\n",
    "    C=tf(x_k)\n",
    "    trial=modified_backtracking_direction(x_k,C,1,0.5,0.5,g,tf)\n",
    "    while la.norm(g_k)>epsilon and iterations<maxitr:\n",
    "        a=modified_backtracking_direction(x_k,C,trial,0.5,0.5,g,tf)\n",
    "        trial=a\n",
    "        Q_ant=Q\n",
    "        x_k=x_k+a*g\n",
    "        g_k=grad(x_k)\n",
    "        g=-1*g_k\n",
    "        Q=Q_ant+1\n",
    "        C=(nu*Q_ant*C+tf(x_k))/Q\n",
    "        iterations=iterations+1\n",
    "    return np.array([iterations,la.norm(g_k),tf(x_k)])"
   ]
  },
  {
   "cell_type": "code",
   "execution_count": 136,
   "metadata": {},
   "outputs": [
    {
     "name": "stdout",
     "output_type": "stream",
     "text": [
      "[2.00000000e+03 9.56432111e-02 9.73723591e-03]\n"
     ]
    }
   ],
   "source": [
    "res=Zhang_Hager([-1.2,1],2000,1e-4,1.0,gradiente_f,f)\n",
    "print(res)"
   ]
  },
  {
   "cell_type": "markdown",
   "metadata": {},
   "source": [
    "# Caso de prueba 1: Funcion Rosenbruck n=100"
   ]
  },
  {
   "cell_type": "code",
   "execution_count": 137,
   "metadata": {},
   "outputs": [],
   "source": [
    "#Definamos la función que vamos a usar \n",
    "def rosen(x): #La función de rosembruck en general\n",
    "    return sum(100.0*(x[1:]-x[:-1]**2.0)**2.0 + (1-x[:-1])**2.0)\n",
    "\n",
    "def r_der(x):\n",
    "        xm = x[1:-1]\n",
    "        xm_m1 = x[:-2]\n",
    "        xm_p1 = x[2:]\n",
    "        der =np.zeros(x.shape)\n",
    "        der[1:-1] = 200*(xm-xm_m1**2) - 400*(xm_p1 - xm**2)*xm - 2*(1-xm)\n",
    "        der[0] = -400*x[0]*(x[1]-x[0]**2) - 2*(1-x[0])\n",
    "        der[-1] = 200*(x[-1]-x[-2]**2)\n",
    "        return der\n",
    "\n",
    "def rosen_hess(x):\n",
    "        H = np.diag(-400*x[:-1],1) - np.diag(400*x[:-1],-1)\n",
    "        diagonal = np.zeros(len(x))\n",
    "        diagonal[0] = 1200*x[0]-400*x[1]+2\n",
    "        diagonal[-1] = 200\n",
    "        diagonal[1:-1] = 202 + 1200*x[1:-1]**2 - 400*x[2:]\n",
    "        H = H + np.diag(diagonal)\n",
    "        return H"
   ]
  },
  {
   "cell_type": "code",
   "execution_count": 138,
   "metadata": {},
   "outputs": [],
   "source": [
    "#Vector de prueba del algoritmo\n",
    "test=np.ones(100)\n",
    "test[0]=1.2\n",
    "test[98]=-1.2\n"
   ]
  },
  {
   "cell_type": "code",
   "execution_count": 139,
   "metadata": {},
   "outputs": [
    {
     "name": "stdout",
     "output_type": "stream",
     "text": [
      "[2.40000000e+01 1.90124877e-05 5.39760782e-11]\n"
     ]
    }
   ],
   "source": [
    "res=newton_line_search(test,2000,1e-4,rosen,r_der,rosen_hess)\n",
    "print(res)"
   ]
  },
  {
   "cell_type": "code",
   "execution_count": 141,
   "metadata": {},
   "outputs": [
    {
     "name": "stdout",
     "output_type": "stream",
     "text": [
      "[8.85000000e+02 9.87641780e-05 7.30916061e-09]\n"
     ]
    }
   ],
   "source": [
    "res=Barzilai_Borwein_descenso(test,2000,1e-4,r_der,rosen)\n",
    "print(res)"
   ]
  },
  {
   "cell_type": "code",
   "execution_count": 144,
   "metadata": {},
   "outputs": [
    {
     "name": "stdout",
     "output_type": "stream",
     "text": [
      "[7.19750000e+04 9.99927783e-05 1.00220659e-08]\n"
     ]
    }
   ],
   "source": [
    "res=Zhang_Hager(test,200000,1e-4,1.0,r_der,rosen)\n",
    "print(res)"
   ]
  },
  {
   "cell_type": "markdown",
   "metadata": {},
   "source": [
    "# Caso 2: Funcion Wood"
   ]
  },
  {
   "cell_type": "code",
   "execution_count": 145,
   "metadata": {},
   "outputs": [],
   "source": [
    "def wood(datos): #Función general, target function\n",
    "    x1,x2,x3,x4=datos\n",
    "    return 100*((x2-x1**2)**2)+(1-x1)**2+(1-x3)**2+90*((x4-x3**2)**2)+10.1*((x2-1)**2+(x4-1)**2)+19.8*(x2-1)*(x4-1)\n",
    "\n",
    "def wood_derivate(x):\n",
    "    g=np.zeros(len(x))\n",
    "    g[0]=2.0*(200.0*x[0]**3-200*x[0]*x[1]+x[0]-1)\n",
    "    g[1]=-200*x[0]**2+220.2*x[1]+19.8*x[3]-40\n",
    "    g[2]=2*(180*x[2]**3-180*x[3]*x[2]+x[2]-1)\n",
    "    g[3]=19.8*x[1]-180*x[2]**2+200.2*x[3]-40\n",
    "    return g\n",
    "\n",
    "def wood_hessian(x):\n",
    "    hes=np.zeros((len(x),len(x)))\n",
    "    hes[0][0]=400*(x[0]**2-x[1])+800*x[0]**2+2\n",
    "    hes[0][1]=-400*x[0]\n",
    "    hes[1][0]=400*x[0]\n",
    "    hes[1][1]=220.2\n",
    "    hes[1][3]=19.8\n",
    "    hes[2][2]=2+720*x[2]**2+360*(x[2]**2-x[3])\n",
    "    hes[2][3]=-360*x[2]\n",
    "    hes[3][1]=19.8\n",
    "    hes[3][2]=-360*x[2]\n",
    "    hes[3][3]=200.2\n",
    "    return hes\n",
    "    "
   ]
  },
  {
   "cell_type": "code",
   "execution_count": 146,
   "metadata": {},
   "outputs": [
    {
     "name": "stdout",
     "output_type": "stream",
     "text": [
      "[2.00000000e+03 4.97870664e-03 6.98602452e-06]\n"
     ]
    }
   ],
   "source": [
    "res=newton_line_search(np.array([-3,-1,-3,-1]),2000,1e-4,wood,wood_derivate,wood_hessian)\n",
    "print(res)"
   ]
  },
  {
   "cell_type": "code",
   "execution_count": 147,
   "metadata": {},
   "outputs": [
    {
     "name": "stdout",
     "output_type": "stream",
     "text": [
      "[1.01000000e+02 2.08468685e-05 7.23780008e-13]\n"
     ]
    }
   ],
   "source": [
    "res=Barzilai_Borwein_descenso(np.array([-3,-1,-3,-1]),2000,1e-4,wood_derivate,wood)\n",
    "print(res)"
   ]
  },
  {
   "cell_type": "code",
   "execution_count": 148,
   "metadata": {},
   "outputs": [
    {
     "name": "stdout",
     "output_type": "stream",
     "text": [
      "[2.00000000e+04 4.23805020e-03 1.24803929e-05]\n"
     ]
    }
   ],
   "source": [
    "res=Zhang_Hager(np.array([-3,-1,-3,-1]),20000,1e-4,1.0,wood_derivate,wood)\n",
    "print(res)"
   ]
  },
  {
   "cell_type": "code",
   "execution_count": null,
   "metadata": {},
   "outputs": [],
   "source": []
  },
  {
   "cell_type": "code",
   "execution_count": null,
   "metadata": {},
   "outputs": [],
   "source": []
  }
 ],
 "metadata": {
  "kernelspec": {
   "display_name": "Python 3",
   "language": "python",
   "name": "python3"
  },
  "language_info": {
   "codemirror_mode": {
    "name": "ipython",
    "version": 3
   },
   "file_extension": ".py",
   "mimetype": "text/x-python",
   "name": "python",
   "nbconvert_exporter": "python",
   "pygments_lexer": "ipython3",
   "version": "3.7.4"
  }
 },
 "nbformat": 4,
 "nbformat_minor": 4
}
