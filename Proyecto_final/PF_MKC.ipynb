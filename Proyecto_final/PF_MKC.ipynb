{
 "cells": [
  {
   "cell_type": "code",
   "execution_count": 14,
   "metadata": {},
   "outputs": [],
   "source": [
    "import numpy as np\n",
    "import codigo as cdg\n",
    "from codigo import *\n",
    "import ncpol2sdpa\n",
    "import cvxpy as cp"
   ]
  },
  {
   "cell_type": "code",
   "execution_count": 16,
   "metadata": {},
   "outputs": [],
   "source": [
    "grafo=cdg.cargar_grafos(\"./G1\")\n",
    "\n",
    "n_nodes = len(grafo)\n",
    "adjacent = nx.adjacency_matrix(grafo).toarray() #Convertir la matriz de adyacencia a los\n",
    "matrix = cp.Variable((n_nodes, n_nodes), PSD=True)\n",
    "cut = .25 * cp.sum(cp.multiply(adjacent, 1 - matrix))\n"
   ]
  },
  {
   "cell_type": "code",
   "execution_count": null,
   "metadata": {},
   "outputs": [],
   "source": []
  }
 ],
 "metadata": {
  "kernelspec": {
   "display_name": "Python 3",
   "language": "python",
   "name": "python3"
  },
  "language_info": {
   "codemirror_mode": {
    "name": "ipython",
    "version": 3
   },
   "file_extension": ".py",
   "mimetype": "text/x-python",
   "name": "python",
   "nbconvert_exporter": "python",
   "pygments_lexer": "ipython3",
   "version": "3.7.6"
  }
 },
 "nbformat": 4,
 "nbformat_minor": 4
}
